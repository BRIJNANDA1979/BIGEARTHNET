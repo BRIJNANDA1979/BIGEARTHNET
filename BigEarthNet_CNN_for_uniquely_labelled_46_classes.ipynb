{
  "nbformat": 4,
  "nbformat_minor": 0,
  "metadata": {
    "colab": {
      "name": "BigEarthNet CNN for uniquely labelled 46 classes",
      "provenance": [],
      "collapsed_sections": [],
      "mount_file_id": "119rRHSflum0Dv2It9Vuco6A6nGlcddxw",
      "authorship_tag": "ABX9TyNgx8jDlC3lLAJrINGVP/sd",
      "include_colab_link": true
    },
    "kernelspec": {
      "display_name": "Python 3",
      "name": "python3"
    },
    "language_info": {
      "name": "python"
    }
  },
  "cells": [
    {
      "cell_type": "markdown",
      "metadata": {
        "id": "view-in-github",
        "colab_type": "text"
      },
      "source": [
        "<a href=\"https://colab.research.google.com/github/BRIJNANDA1979/BIGEARTHNET/blob/main/BigEarthNet_CNN_for_uniquely_labelled_46_classes.ipynb\" target=\"_parent\"><img src=\"https://colab.research.google.com/assets/colab-badge.svg\" alt=\"Open In Colab\"/></a>"
      ]
    },
    {
      "cell_type": "markdown",
      "metadata": {
        "id": "AMEsja1YQzEX"
      },
      "source": [
        "BigEarthNet unique labelled data with 46 classes uploaded on google drive.\n",
        "Step  1: to create geotiff image using 12 bands of Sentinel-2 imagery **bold text**"
      ]
    },
    {
      "cell_type": "code",
      "metadata": {
        "id": "qJkMdq_SRXCG"
      },
      "source": [
        "import os\n",
        "import pandas as pd"
      ],
      "execution_count": 3,
      "outputs": []
    },
    {
      "cell_type": "code",
      "metadata": {
        "id": "F4jAn9SORawY"
      },
      "source": [
        "src_path = '/content/drive/MyDrive/BigEarthNet unique labelled'"
      ],
      "execution_count": 4,
      "outputs": []
    },
    {
      "cell_type": "code",
      "metadata": {
        "colab": {
          "base_uri": "https://localhost:8080/"
        },
        "id": "F41BZyhvUpsB",
        "outputId": "6084a319-2dee-456d-f2d6-ec6c75d58177"
      },
      "source": [
        "!pip install rasterio"
      ],
      "execution_count": 5,
      "outputs": [
        {
          "output_type": "stream",
          "text": [
            "Collecting rasterio\n",
            "\u001b[?25l  Downloading https://files.pythonhosted.org/packages/59/d9/3a0bcd8ddbca79535afef2664c37b5676bb60835f9177c82e8b498398360/rasterio-1.2.5-cp37-cp37m-manylinux1_x86_64.whl (19.3MB)\n",
            "\u001b[K     |████████████████████████████████| 19.3MB 1.3MB/s \n",
            "\u001b[?25hRequirement already satisfied: numpy in /usr/local/lib/python3.7/dist-packages (from rasterio) (1.19.5)\n",
            "Collecting click-plugins\n",
            "  Downloading https://files.pythonhosted.org/packages/e9/da/824b92d9942f4e472702488857914bdd50f73021efea15b4cad9aca8ecef/click_plugins-1.1.1-py2.py3-none-any.whl\n",
            "Requirement already satisfied: attrs in /usr/local/lib/python3.7/dist-packages (from rasterio) (21.2.0)\n",
            "Requirement already satisfied: certifi in /usr/local/lib/python3.7/dist-packages (from rasterio) (2021.5.30)\n",
            "Requirement already satisfied: click>=4.0 in /usr/local/lib/python3.7/dist-packages (from rasterio) (7.1.2)\n",
            "Collecting snuggs>=1.4.1\n",
            "  Downloading https://files.pythonhosted.org/packages/cc/0e/d27d6e806d6c0d1a2cfdc5d1f088e42339a0a54a09c3343f7f81ec8947ea/snuggs-1.4.7-py3-none-any.whl\n",
            "Collecting cligj>=0.5\n",
            "  Downloading https://files.pythonhosted.org/packages/73/86/43fa9f15c5b9fb6e82620428827cd3c284aa933431405d1bcf5231ae3d3e/cligj-0.7.2-py3-none-any.whl\n",
            "Requirement already satisfied: setuptools in /usr/local/lib/python3.7/dist-packages (from rasterio) (57.0.0)\n",
            "Collecting affine\n",
            "  Downloading https://files.pythonhosted.org/packages/ac/a6/1a39a1ede71210e3ddaf623982b06ecfc5c5c03741ae659073159184cd3e/affine-2.3.0-py2.py3-none-any.whl\n",
            "Requirement already satisfied: pyparsing>=2.1.6 in /usr/local/lib/python3.7/dist-packages (from snuggs>=1.4.1->rasterio) (2.4.7)\n",
            "Installing collected packages: click-plugins, snuggs, cligj, affine, rasterio\n",
            "Successfully installed affine-2.3.0 click-plugins-1.1.1 cligj-0.7.2 rasterio-1.2.5 snuggs-1.4.7\n"
          ],
          "name": "stdout"
        }
      ]
    },
    {
      "cell_type": "code",
      "metadata": {
        "colab": {
          "base_uri": "https://localhost:8080/"
        },
        "id": "HMCHaqr1Ck0l",
        "outputId": "0d8fe368-75de-4b98-daa7-a38cc2a7b7f5"
      },
      "source": [
        "!pip install glob2"
      ],
      "execution_count": 6,
      "outputs": [
        {
          "output_type": "stream",
          "text": [
            "Requirement already satisfied: glob2 in /usr/local/lib/python3.7/dist-packages (0.7)\n"
          ],
          "name": "stdout"
        }
      ]
    },
    {
      "cell_type": "code",
      "metadata": {
        "id": "MJtNRJ2tURZq"
      },
      "source": [
        "import rasterio\n",
        "from rasterio import merge\n",
        "import glob2\n",
        "def merge_bands(path,sub):\n",
        "    search = '*_B*.tif'   # 12 Band files end with B01,B02....\n",
        "    files_batch = []\n",
        "    files_batch = glob2.glob(os.path.join(path,search)) #search all tif band files \n",
        "    files_batch =sorted(files_batch)\n",
        "    print(files_batch) \n",
        "    print(len(files_batch))\n",
        "    if len(files_batch) == 0:\n",
        "      print(\"Some folders are empty and dont have 12 band files\")\n",
        "      return\n",
        "    # Read metadata of first file\n",
        "    with rasterio.open(files_batch[0]) as src0: #open first files out of batch of 12 files\n",
        "        meta = src0.meta\n",
        "\n",
        "    # Update meta to reflect the number of layers in merged output geotiff file\n",
        "    meta.update(count = len(files_batch)) #change output meta files as it will have 12 bands rather than 1 as in source files\n",
        "\n",
        "    # Read each layer and write it to stack\n",
        "    fnames = path +'/' + sub + '.tif'\n",
        "    with rasterio.open(fnames, 'w', **meta) as dst: #output/destination(dst) file opened in write mode with an extra \"meta\" arbitrary keyword argument\n",
        "        print(dst)\n",
        "        for id, layer in enumerate(files_batch, start=1): # create list of 12 tuples \n",
        "            print(id,layer)\n",
        "            with rasterio.open(layer) as src1:\n",
        "                dst.write_band(id, src1.read(1)) #read 1 band at a time and write it to stacled tif"
      ],
      "execution_count": 7,
      "outputs": []
    },
    {
      "cell_type": "code",
      "metadata": {
        "colab": {
          "base_uri": "https://localhost:8080/"
        },
        "id": "gZTIbQoqRn7p",
        "outputId": "f4e50091-2ffc-4c83-a680-078d26dc65d1"
      },
      "source": [
        "dirs = os.listdir(src_path)  #list of all classes\n",
        "print(dirs)\n",
        "print(len(dirs))"
      ],
      "execution_count": 9,
      "outputs": [
        {
          "output_type": "stream",
          "text": [
            "['Agro-forestry areas', 'Airports', 'Annual crops associated with permanent crops', 'Coastal lagoons', 'Complex cultivation patterns', 'Discontinuous urban fabric', 'Dump sites', 'Estuaries', 'Fruit trees and berry plantations', 'Green urban areas', 'Industrial or commercial units', 'Inland marshes', 'Intertidal flats', 'Mineral extraction sites', 'Mixed forest', 'Moors and heathland', 'Natural grassland', 'Peatbogs', 'Permanently irrigated land', 'Rice fields', 'Salt marshes', 'Sclerophyllous vegetation', 'Sparsely vegetated areas', 'Sport and leisure facilities', 'Transitional woodlandshrub', 'Vineyards']\n",
            "26\n"
          ],
          "name": "stdout"
        }
      ]
    },
    {
      "cell_type": "code",
      "metadata": {
        "colab": {
          "base_uri": "https://localhost:8080/"
        },
        "id": "U8x8e2MH_Nyu",
        "outputId": "67cc05d0-665b-42ac-c49c-cde98d118149"
      },
      "source": [
        "# TESTING the input data..before merging 12 bands to geotiff\n",
        "%%timeit\n",
        "import glob2 # glob2 is faster than glob\n",
        "for dir in dirs:\n",
        "  sub_dirs = os.listdir(os.path.join(src_path,dir))\n",
        "  src_folders_path = os.path.join(src_path,dir)\n",
        "  for sub in sub_dirs:\n",
        "    path=os.path.join(src_folders_path,sub)\n",
        "    #print(len(sub_dirs))\n",
        "    search = '*_B*.tif'   # 12 Band files end with B01,B02....\n",
        "    files_batch = []\n",
        "    files_batch = glob2.glob(os.path.join(path,search)) #search all tif band files \n",
        "    files_batch =sorted(files_batch)\n",
        "    #print(files_batch) \n",
        "    if len(files_batch) < 12:\n",
        "      print(len(files_batch))\n",
        "      print(dir)\n",
        "      exit_parameter  = True\n",
        "      break\n",
        "    else:\n",
        "      continue\n",
        "    if exit_parameter == True:\n",
        "      break"
      ],
      "execution_count": 10,
      "outputs": [
        {
          "output_type": "stream",
          "text": [
            "The slowest run took 125.60 times longer than the fastest. This could mean that an intermediate result is being cached.\n",
            "1 loop, best of 5: 2.05 s per loop\n"
          ],
          "name": "stdout"
        }
      ]
    },
    {
      "cell_type": "code",
      "metadata": {
        "colab": {
          "background_save": true,
          "base_uri": "https://localhost:8080/"
        },
        "id": "YSgi0raIR50B",
        "outputId": "ae5ea3a8-3219-4577-9372-641fdcf7fa67"
      },
      "source": [
        "%%timeit\n",
        "import glob2 # glob2 is faster than glob\n",
        "\n",
        "for dir in dirs:\n",
        "  sub_dirs = os.listdir(os.path.join(src_path,dir))\n",
        "  path=os.path.join(src_path,dir)\n",
        "  print(dir,len(sub_dirs))\n",
        "  for data_folder in sub_dirs:\n",
        "    path_tif_files=os.path.join(path,data_folder)\n",
        "    merge_bands(path_tif_files,data_folder)"
      ],
      "execution_count": null,
      "outputs": [
        {
          "output_type": "stream",
          "text": [
            "Agro-forestry areas 666\n",
            "['/content/drive/MyDrive/BigEarthNet unique labelled/Agro-forestry areas/S2B_MSIL2A_20180515T112110_89_80/S2B_MSIL2A_20180515T112110_89_80_B01.tif', '/content/drive/MyDrive/BigEarthNet unique labelled/Agro-forestry areas/S2B_MSIL2A_20180515T112110_89_80/S2B_MSIL2A_20180515T112110_89_80_B02.tif', '/content/drive/MyDrive/BigEarthNet unique labelled/Agro-forestry areas/S2B_MSIL2A_20180515T112110_89_80/S2B_MSIL2A_20180515T112110_89_80_B03.tif', '/content/drive/MyDrive/BigEarthNet unique labelled/Agro-forestry areas/S2B_MSIL2A_20180515T112110_89_80/S2B_MSIL2A_20180515T112110_89_80_B04.tif', '/content/drive/MyDrive/BigEarthNet unique labelled/Agro-forestry areas/S2B_MSIL2A_20180515T112110_89_80/S2B_MSIL2A_20180515T112110_89_80_B05.tif', '/content/drive/MyDrive/BigEarthNet unique labelled/Agro-forestry areas/S2B_MSIL2A_20180515T112110_89_80/S2B_MSIL2A_20180515T112110_89_80_B06.tif', '/content/drive/MyDrive/BigEarthNet unique labelled/Agro-forestry areas/S2B_MSIL2A_20180515T112110_89_80/S2B_MSIL2A_20180515T112110_89_80_B07.tif', '/content/drive/MyDrive/BigEarthNet unique labelled/Agro-forestry areas/S2B_MSIL2A_20180515T112110_89_80/S2B_MSIL2A_20180515T112110_89_80_B08.tif', '/content/drive/MyDrive/BigEarthNet unique labelled/Agro-forestry areas/S2B_MSIL2A_20180515T112110_89_80/S2B_MSIL2A_20180515T112110_89_80_B09.tif', '/content/drive/MyDrive/BigEarthNet unique labelled/Agro-forestry areas/S2B_MSIL2A_20180515T112110_89_80/S2B_MSIL2A_20180515T112110_89_80_B11.tif', '/content/drive/MyDrive/BigEarthNet unique labelled/Agro-forestry areas/S2B_MSIL2A_20180515T112110_89_80/S2B_MSIL2A_20180515T112110_89_80_B12.tif', '/content/drive/MyDrive/BigEarthNet unique labelled/Agro-forestry areas/S2B_MSIL2A_20180515T112110_89_80/S2B_MSIL2A_20180515T112110_89_80_B8A.tif']\n",
            "12\n",
            "<open DatasetWriter name='/content/drive/MyDrive/BigEarthNet unique labelled/Agro-forestry areas/S2B_MSIL2A_20180515T112110_89_80/S2B_MSIL2A_20180515T112110_89_80.tif' mode='w'>\n",
            "1 /content/drive/MyDrive/BigEarthNet unique labelled/Agro-forestry areas/S2B_MSIL2A_20180515T112110_89_80/S2B_MSIL2A_20180515T112110_89_80_B01.tif\n",
            "2 /content/drive/MyDrive/BigEarthNet unique labelled/Agro-forestry areas/S2B_MSIL2A_20180515T112110_89_80/S2B_MSIL2A_20180515T112110_89_80_B02.tif\n",
            "3 /content/drive/MyDrive/BigEarthNet unique labelled/Agro-forestry areas/S2B_MSIL2A_20180515T112110_89_80/S2B_MSIL2A_20180515T112110_89_80_B03.tif\n",
            "4 /content/drive/MyDrive/BigEarthNet unique labelled/Agro-forestry areas/S2B_MSIL2A_20180515T112110_89_80/S2B_MSIL2A_20180515T112110_89_80_B04.tif\n",
            "5 /content/drive/MyDrive/BigEarthNet unique labelled/Agro-forestry areas/S2B_MSIL2A_20180515T112110_89_80/S2B_MSIL2A_20180515T112110_89_80_B05.tif\n",
            "6 /content/drive/MyDrive/BigEarthNet unique labelled/Agro-forestry areas/S2B_MSIL2A_20180515T112110_89_80/S2B_MSIL2A_20180515T112110_89_80_B06.tif\n",
            "7 /content/drive/MyDrive/BigEarthNet unique labelled/Agro-forestry areas/S2B_MSIL2A_20180515T112110_89_80/S2B_MSIL2A_20180515T112110_89_80_B07.tif\n",
            "8 /content/drive/MyDrive/BigEarthNet unique labelled/Agro-forestry areas/S2B_MSIL2A_20180515T112110_89_80/S2B_MSIL2A_20180515T112110_89_80_B08.tif\n",
            "9 /content/drive/MyDrive/BigEarthNet unique labelled/Agro-forestry areas/S2B_MSIL2A_20180515T112110_89_80/S2B_MSIL2A_20180515T112110_89_80_B09.tif\n",
            "10 /content/drive/MyDrive/BigEarthNet unique labelled/Agro-forestry areas/S2B_MSIL2A_20180515T112110_89_80/S2B_MSIL2A_20180515T112110_89_80_B11.tif\n",
            "11 /content/drive/MyDrive/BigEarthNet unique labelled/Agro-forestry areas/S2B_MSIL2A_20180515T112110_89_80/S2B_MSIL2A_20180515T112110_89_80_B12.tif\n",
            "12 /content/drive/MyDrive/BigEarthNet unique labelled/Agro-forestry areas/S2B_MSIL2A_20180515T112110_89_80/S2B_MSIL2A_20180515T112110_89_80_B8A.tif\n",
            "['/content/drive/MyDrive/BigEarthNet unique labelled/Agro-forestry areas/S2B_MSIL2A_20180515T112110_90_88/S2B_MSIL2A_20180515T112110_90_88_B01.tif', '/content/drive/MyDrive/BigEarthNet unique labelled/Agro-forestry areas/S2B_MSIL2A_20180515T112110_90_88/S2B_MSIL2A_20180515T112110_90_88_B02.tif', '/content/drive/MyDrive/BigEarthNet unique labelled/Agro-forestry areas/S2B_MSIL2A_20180515T112110_90_88/S2B_MSIL2A_20180515T112110_90_88_B03.tif', '/content/drive/MyDrive/BigEarthNet unique labelled/Agro-forestry areas/S2B_MSIL2A_20180515T112110_90_88/S2B_MSIL2A_20180515T112110_90_88_B04.tif', '/content/drive/MyDrive/BigEarthNet unique labelled/Agro-forestry areas/S2B_MSIL2A_20180515T112110_90_88/S2B_MSIL2A_20180515T112110_90_88_B05.tif', '/content/drive/MyDrive/BigEarthNet unique labelled/Agro-forestry areas/S2B_MSIL2A_20180515T112110_90_88/S2B_MSIL2A_20180515T112110_90_88_B06.tif', '/content/drive/MyDrive/BigEarthNet unique labelled/Agro-forestry areas/S2B_MSIL2A_20180515T112110_90_88/S2B_MSIL2A_20180515T112110_90_88_B07.tif', '/content/drive/MyDrive/BigEarthNet unique labelled/Agro-forestry areas/S2B_MSIL2A_20180515T112110_90_88/S2B_MSIL2A_20180515T112110_90_88_B08.tif', '/content/drive/MyDrive/BigEarthNet unique labelled/Agro-forestry areas/S2B_MSIL2A_20180515T112110_90_88/S2B_MSIL2A_20180515T112110_90_88_B09.tif', '/content/drive/MyDrive/BigEarthNet unique labelled/Agro-forestry areas/S2B_MSIL2A_20180515T112110_90_88/S2B_MSIL2A_20180515T112110_90_88_B11.tif', '/content/drive/MyDrive/BigEarthNet unique labelled/Agro-forestry areas/S2B_MSIL2A_20180515T112110_90_88/S2B_MSIL2A_20180515T112110_90_88_B12.tif', '/content/drive/MyDrive/BigEarthNet unique labelled/Agro-forestry areas/S2B_MSIL2A_20180515T112110_90_88/S2B_MSIL2A_20180515T112110_90_88_B8A.tif']\n",
            "12\n",
            "<open DatasetWriter name='/content/drive/MyDrive/BigEarthNet unique labelled/Agro-forestry areas/S2B_MSIL2A_20180515T112110_90_88/S2B_MSIL2A_20180515T112110_90_88.tif' mode='w'>\n",
            "1 /content/drive/MyDrive/BigEarthNet unique labelled/Agro-forestry areas/S2B_MSIL2A_20180515T112110_90_88/S2B_MSIL2A_20180515T112110_90_88_B01.tif\n",
            "2 /content/drive/MyDrive/BigEarthNet unique labelled/Agro-forestry areas/S2B_MSIL2A_20180515T112110_90_88/S2B_MSIL2A_20180515T112110_90_88_B02.tif\n",
            "3 /content/drive/MyDrive/BigEarthNet unique labelled/Agro-forestry areas/S2B_MSIL2A_20180515T112110_90_88/S2B_MSIL2A_20180515T112110_90_88_B03.tif\n",
            "4 /content/drive/MyDrive/BigEarthNet unique labelled/Agro-forestry areas/S2B_MSIL2A_20180515T112110_90_88/S2B_MSIL2A_20180515T112110_90_88_B04.tif\n",
            "5 /content/drive/MyDrive/BigEarthNet unique labelled/Agro-forestry areas/S2B_MSIL2A_20180515T112110_90_88/S2B_MSIL2A_20180515T112110_90_88_B05.tif\n",
            "6 /content/drive/MyDrive/BigEarthNet unique labelled/Agro-forestry areas/S2B_MSIL2A_20180515T112110_90_88/S2B_MSIL2A_20180515T112110_90_88_B06.tif\n",
            "7 /content/drive/MyDrive/BigEarthNet unique labelled/Agro-forestry areas/S2B_MSIL2A_20180515T112110_90_88/S2B_MSIL2A_20180515T112110_90_88_B07.tif\n",
            "8 /content/drive/MyDrive/BigEarthNet unique labelled/Agro-forestry areas/S2B_MSIL2A_20180515T112110_90_88/S2B_MSIL2A_20180515T112110_90_88_B08.tif\n",
            "9 /content/drive/MyDrive/BigEarthNet unique labelled/Agro-forestry areas/S2B_MSIL2A_20180515T112110_90_88/S2B_MSIL2A_20180515T112110_90_88_B09.tif\n",
            "10 /content/drive/MyDrive/BigEarthNet unique labelled/Agro-forestry areas/S2B_MSIL2A_20180515T112110_90_88/S2B_MSIL2A_20180515T112110_90_88_B11.tif\n",
            "11 /content/drive/MyDrive/BigEarthNet unique labelled/Agro-forestry areas/S2B_MSIL2A_20180515T112110_90_88/S2B_MSIL2A_20180515T112110_90_88_B12.tif\n",
            "12 /content/drive/MyDrive/BigEarthNet unique labelled/Agro-forestry areas/S2B_MSIL2A_20180515T112110_90_88/S2B_MSIL2A_20180515T112110_90_88_B8A.tif\n",
            "['/content/drive/MyDrive/BigEarthNet unique labelled/Agro-forestry areas/S2B_MSIL2A_20180515T112110_90_60/S2B_MSIL2A_20180515T112110_90_60_B01.tif', '/content/drive/MyDrive/BigEarthNet unique labelled/Agro-forestry areas/S2B_MSIL2A_20180515T112110_90_60/S2B_MSIL2A_20180515T112110_90_60_B02.tif', '/content/drive/MyDrive/BigEarthNet unique labelled/Agro-forestry areas/S2B_MSIL2A_20180515T112110_90_60/S2B_MSIL2A_20180515T112110_90_60_B03.tif', '/content/drive/MyDrive/BigEarthNet unique labelled/Agro-forestry areas/S2B_MSIL2A_20180515T112110_90_60/S2B_MSIL2A_20180515T112110_90_60_B04.tif', '/content/drive/MyDrive/BigEarthNet unique labelled/Agro-forestry areas/S2B_MSIL2A_20180515T112110_90_60/S2B_MSIL2A_20180515T112110_90_60_B05.tif', '/content/drive/MyDrive/BigEarthNet unique labelled/Agro-forestry areas/S2B_MSIL2A_20180515T112110_90_60/S2B_MSIL2A_20180515T112110_90_60_B06.tif', '/content/drive/MyDrive/BigEarthNet unique labelled/Agro-forestry areas/S2B_MSIL2A_20180515T112110_90_60/S2B_MSIL2A_20180515T112110_90_60_B07.tif', '/content/drive/MyDrive/BigEarthNet unique labelled/Agro-forestry areas/S2B_MSIL2A_20180515T112110_90_60/S2B_MSIL2A_20180515T112110_90_60_B08.tif', '/content/drive/MyDrive/BigEarthNet unique labelled/Agro-forestry areas/S2B_MSIL2A_20180515T112110_90_60/S2B_MSIL2A_20180515T112110_90_60_B09.tif', '/content/drive/MyDrive/BigEarthNet unique labelled/Agro-forestry areas/S2B_MSIL2A_20180515T112110_90_60/S2B_MSIL2A_20180515T112110_90_60_B11.tif', '/content/drive/MyDrive/BigEarthNet unique labelled/Agro-forestry areas/S2B_MSIL2A_20180515T112110_90_60/S2B_MSIL2A_20180515T112110_90_60_B12.tif', '/content/drive/MyDrive/BigEarthNet unique labelled/Agro-forestry areas/S2B_MSIL2A_20180515T112110_90_60/S2B_MSIL2A_20180515T112110_90_60_B8A.tif']\n",
            "12\n",
            "<open DatasetWriter name='/content/drive/MyDrive/BigEarthNet unique labelled/Agro-forestry areas/S2B_MSIL2A_20180515T112110_90_60/S2B_MSIL2A_20180515T112110_90_60.tif' mode='w'>\n",
            "1 /content/drive/MyDrive/BigEarthNet unique labelled/Agro-forestry areas/S2B_MSIL2A_20180515T112110_90_60/S2B_MSIL2A_20180515T112110_90_60_B01.tif\n",
            "2 /content/drive/MyDrive/BigEarthNet unique labelled/Agro-forestry areas/S2B_MSIL2A_20180515T112110_90_60/S2B_MSIL2A_20180515T112110_90_60_B02.tif\n",
            "3 /content/drive/MyDrive/BigEarthNet unique labelled/Agro-forestry areas/S2B_MSIL2A_20180515T112110_90_60/S2B_MSIL2A_20180515T112110_90_60_B03.tif\n",
            "4 /content/drive/MyDrive/BigEarthNet unique labelled/Agro-forestry areas/S2B_MSIL2A_20180515T112110_90_60/S2B_MSIL2A_20180515T112110_90_60_B04.tif\n",
            "5 /content/drive/MyDrive/BigEarthNet unique labelled/Agro-forestry areas/S2B_MSIL2A_20180515T112110_90_60/S2B_MSIL2A_20180515T112110_90_60_B05.tif\n",
            "6 /content/drive/MyDrive/BigEarthNet unique labelled/Agro-forestry areas/S2B_MSIL2A_20180515T112110_90_60/S2B_MSIL2A_20180515T112110_90_60_B06.tif\n",
            "7 /content/drive/MyDrive/BigEarthNet unique labelled/Agro-forestry areas/S2B_MSIL2A_20180515T112110_90_60/S2B_MSIL2A_20180515T112110_90_60_B07.tif\n",
            "8 /content/drive/MyDrive/BigEarthNet unique labelled/Agro-forestry areas/S2B_MSIL2A_20180515T112110_90_60/S2B_MSIL2A_20180515T112110_90_60_B08.tif\n",
            "9 /content/drive/MyDrive/BigEarthNet unique labelled/Agro-forestry areas/S2B_MSIL2A_20180515T112110_90_60/S2B_MSIL2A_20180515T112110_90_60_B09.tif\n",
            "10 /content/drive/MyDrive/BigEarthNet unique labelled/Agro-forestry areas/S2B_MSIL2A_20180515T112110_90_60/S2B_MSIL2A_20180515T112110_90_60_B11.tif\n",
            "11 /content/drive/MyDrive/BigEarthNet unique labelled/Agro-forestry areas/S2B_MSIL2A_20180515T112110_90_60/S2B_MSIL2A_20180515T112110_90_60_B12.tif\n",
            "12 /content/drive/MyDrive/BigEarthNet unique labelled/Agro-forestry areas/S2B_MSIL2A_20180515T112110_90_60/S2B_MSIL2A_20180515T112110_90_60_B8A.tif\n",
            "['/content/drive/MyDrive/BigEarthNet unique labelled/Agro-forestry areas/S2B_MSIL2A_20180515T112110_89_88/S2B_MSIL2A_20180515T112110_89_88_B01.tif', '/content/drive/MyDrive/BigEarthNet unique labelled/Agro-forestry areas/S2B_MSIL2A_20180515T112110_89_88/S2B_MSIL2A_20180515T112110_89_88_B02.tif', '/content/drive/MyDrive/BigEarthNet unique labelled/Agro-forestry areas/S2B_MSIL2A_20180515T112110_89_88/S2B_MSIL2A_20180515T112110_89_88_B03.tif', '/content/drive/MyDrive/BigEarthNet unique labelled/Agro-forestry areas/S2B_MSIL2A_20180515T112110_89_88/S2B_MSIL2A_20180515T112110_89_88_B04.tif', '/content/drive/MyDrive/BigEarthNet unique labelled/Agro-forestry areas/S2B_MSIL2A_20180515T112110_89_88/S2B_MSIL2A_20180515T112110_89_88_B05.tif', '/content/drive/MyDrive/BigEarthNet unique labelled/Agro-forestry areas/S2B_MSIL2A_20180515T112110_89_88/S2B_MSIL2A_20180515T112110_89_88_B06.tif', '/content/drive/MyDrive/BigEarthNet unique labelled/Agro-forestry areas/S2B_MSIL2A_20180515T112110_89_88/S2B_MSIL2A_20180515T112110_89_88_B07.tif', '/content/drive/MyDrive/BigEarthNet unique labelled/Agro-forestry areas/S2B_MSIL2A_20180515T112110_89_88/S2B_MSIL2A_20180515T112110_89_88_B08.tif', '/content/drive/MyDrive/BigEarthNet unique labelled/Agro-forestry areas/S2B_MSIL2A_20180515T112110_89_88/S2B_MSIL2A_20180515T112110_89_88_B09.tif', '/content/drive/MyDrive/BigEarthNet unique labelled/Agro-forestry areas/S2B_MSIL2A_20180515T112110_89_88/S2B_MSIL2A_20180515T112110_89_88_B11.tif', '/content/drive/MyDrive/BigEarthNet unique labelled/Agro-forestry areas/S2B_MSIL2A_20180515T112110_89_88/S2B_MSIL2A_20180515T112110_89_88_B12.tif', '/content/drive/MyDrive/BigEarthNet unique labelled/Agro-forestry areas/S2B_MSIL2A_20180515T112110_89_88/S2B_MSIL2A_20180515T112110_89_88_B8A.tif']\n",
            "12\n",
            "<open DatasetWriter name='/content/drive/MyDrive/BigEarthNet unique labelled/Agro-forestry areas/S2B_MSIL2A_20180515T112110_89_88/S2B_MSIL2A_20180515T112110_89_88.tif' mode='w'>\n",
            "1 /content/drive/MyDrive/BigEarthNet unique labelled/Agro-forestry areas/S2B_MSIL2A_20180515T112110_89_88/S2B_MSIL2A_20180515T112110_89_88_B01.tif\n",
            "2 /content/drive/MyDrive/BigEarthNet unique labelled/Agro-forestry areas/S2B_MSIL2A_20180515T112110_89_88/S2B_MSIL2A_20180515T112110_89_88_B02.tif\n",
            "3 /content/drive/MyDrive/BigEarthNet unique labelled/Agro-forestry areas/S2B_MSIL2A_20180515T112110_89_88/S2B_MSIL2A_20180515T112110_89_88_B03.tif\n",
            "4 /content/drive/MyDrive/BigEarthNet unique labelled/Agro-forestry areas/S2B_MSIL2A_20180515T112110_89_88/S2B_MSIL2A_20180515T112110_89_88_B04.tif\n",
            "5 /content/drive/MyDrive/BigEarthNet unique labelled/Agro-forestry areas/S2B_MSIL2A_20180515T112110_89_88/S2B_MSIL2A_20180515T112110_89_88_B05.tif\n",
            "6 /content/drive/MyDrive/BigEarthNet unique labelled/Agro-forestry areas/S2B_MSIL2A_20180515T112110_89_88/S2B_MSIL2A_20180515T112110_89_88_B06.tif\n",
            "7 /content/drive/MyDrive/BigEarthNet unique labelled/Agro-forestry areas/S2B_MSIL2A_20180515T112110_89_88/S2B_MSIL2A_20180515T112110_89_88_B07.tif\n",
            "8 /content/drive/MyDrive/BigEarthNet unique labelled/Agro-forestry areas/S2B_MSIL2A_20180515T112110_89_88/S2B_MSIL2A_20180515T112110_89_88_B08.tif\n",
            "9 /content/drive/MyDrive/BigEarthNet unique labelled/Agro-forestry areas/S2B_MSIL2A_20180515T112110_89_88/S2B_MSIL2A_20180515T112110_89_88_B09.tif\n",
            "10 /content/drive/MyDrive/BigEarthNet unique labelled/Agro-forestry areas/S2B_MSIL2A_20180515T112110_89_88/S2B_MSIL2A_20180515T112110_89_88_B11.tif\n",
            "11 /content/drive/MyDrive/BigEarthNet unique labelled/Agro-forestry areas/S2B_MSIL2A_20180515T112110_89_88/S2B_MSIL2A_20180515T112110_89_88_B12.tif\n",
            "12 /content/drive/MyDrive/BigEarthNet unique labelled/Agro-forestry areas/S2B_MSIL2A_20180515T112110_89_88/S2B_MSIL2A_20180515T112110_89_88_B8A.tif\n",
            "['/content/drive/MyDrive/BigEarthNet unique labelled/Agro-forestry areas/S2B_MSIL2A_20180515T112110_90_89/S2B_MSIL2A_20180515T112110_90_89_B01.tif', '/content/drive/MyDrive/BigEarthNet unique labelled/Agro-forestry areas/S2B_MSIL2A_20180515T112110_90_89/S2B_MSIL2A_20180515T112110_90_89_B02.tif', '/content/drive/MyDrive/BigEarthNet unique labelled/Agro-forestry areas/S2B_MSIL2A_20180515T112110_90_89/S2B_MSIL2A_20180515T112110_90_89_B03.tif', '/content/drive/MyDrive/BigEarthNet unique labelled/Agro-forestry areas/S2B_MSIL2A_20180515T112110_90_89/S2B_MSIL2A_20180515T112110_90_89_B04.tif', '/content/drive/MyDrive/BigEarthNet unique labelled/Agro-forestry areas/S2B_MSIL2A_20180515T112110_90_89/S2B_MSIL2A_20180515T112110_90_89_B05.tif', '/content/drive/MyDrive/BigEarthNet unique labelled/Agro-forestry areas/S2B_MSIL2A_20180515T112110_90_89/S2B_MSIL2A_20180515T112110_90_89_B06.tif', '/content/drive/MyDrive/BigEarthNet unique labelled/Agro-forestry areas/S2B_MSIL2A_20180515T112110_90_89/S2B_MSIL2A_20180515T112110_90_89_B07.tif', '/content/drive/MyDrive/BigEarthNet unique labelled/Agro-forestry areas/S2B_MSIL2A_20180515T112110_90_89/S2B_MSIL2A_20180515T112110_90_89_B08.tif', '/content/drive/MyDrive/BigEarthNet unique labelled/Agro-forestry areas/S2B_MSIL2A_20180515T112110_90_89/S2B_MSIL2A_20180515T112110_90_89_B09.tif', '/content/drive/MyDrive/BigEarthNet unique labelled/Agro-forestry areas/S2B_MSIL2A_20180515T112110_90_89/S2B_MSIL2A_20180515T112110_90_89_B11.tif', '/content/drive/MyDrive/BigEarthNet unique labelled/Agro-forestry areas/S2B_MSIL2A_20180515T112110_90_89/S2B_MSIL2A_20180515T112110_90_89_B12.tif', '/content/drive/MyDrive/BigEarthNet unique labelled/Agro-forestry areas/S2B_MSIL2A_20180515T112110_90_89/S2B_MSIL2A_20180515T112110_90_89_B8A.tif']\n",
            "12\n",
            "<open DatasetWriter name='/content/drive/MyDrive/BigEarthNet unique labelled/Agro-forestry areas/S2B_MSIL2A_20180515T112110_90_89/S2B_MSIL2A_20180515T112110_90_89.tif' mode='w'>\n",
            "1 /content/drive/MyDrive/BigEarthNet unique labelled/Agro-forestry areas/S2B_MSIL2A_20180515T112110_90_89/S2B_MSIL2A_20180515T112110_90_89_B01.tif\n",
            "2 /content/drive/MyDrive/BigEarthNet unique labelled/Agro-forestry areas/S2B_MSIL2A_20180515T112110_90_89/S2B_MSIL2A_20180515T112110_90_89_B02.tif\n",
            "3 /content/drive/MyDrive/BigEarthNet unique labelled/Agro-forestry areas/S2B_MSIL2A_20180515T112110_90_89/S2B_MSIL2A_20180515T112110_90_89_B03.tif\n",
            "4 /content/drive/MyDrive/BigEarthNet unique labelled/Agro-forestry areas/S2B_MSIL2A_20180515T112110_90_89/S2B_MSIL2A_20180515T112110_90_89_B04.tif\n",
            "5 /content/drive/MyDrive/BigEarthNet unique labelled/Agro-forestry areas/S2B_MSIL2A_20180515T112110_90_89/S2B_MSIL2A_20180515T112110_90_89_B05.tif\n",
            "6 /content/drive/MyDrive/BigEarthNet unique labelled/Agro-forestry areas/S2B_MSIL2A_20180515T112110_90_89/S2B_MSIL2A_20180515T112110_90_89_B06.tif\n",
            "7 /content/drive/MyDrive/BigEarthNet unique labelled/Agro-forestry areas/S2B_MSIL2A_20180515T112110_90_89/S2B_MSIL2A_20180515T112110_90_89_B07.tif\n",
            "8 /content/drive/MyDrive/BigEarthNet unique labelled/Agro-forestry areas/S2B_MSIL2A_20180515T112110_90_89/S2B_MSIL2A_20180515T112110_90_89_B08.tif\n",
            "9 /content/drive/MyDrive/BigEarthNet unique labelled/Agro-forestry areas/S2B_MSIL2A_20180515T112110_90_89/S2B_MSIL2A_20180515T112110_90_89_B09.tif\n",
            "10 /content/drive/MyDrive/BigEarthNet unique labelled/Agro-forestry areas/S2B_MSIL2A_20180515T112110_90_89/S2B_MSIL2A_20180515T112110_90_89_B11.tif\n",
            "11 /content/drive/MyDrive/BigEarthNet unique labelled/Agro-forestry areas/S2B_MSIL2A_20180515T112110_90_89/S2B_MSIL2A_20180515T112110_90_89_B12.tif\n",
            "12 /content/drive/MyDrive/BigEarthNet unique labelled/Agro-forestry areas/S2B_MSIL2A_20180515T112110_90_89/S2B_MSIL2A_20180515T112110_90_89_B8A.tif\n",
            "['/content/drive/MyDrive/BigEarthNet unique labelled/Agro-forestry areas/S2B_MSIL2A_20180515T112110_88_88/S2B_MSIL2A_20180515T112110_88_88_B01.tif', '/content/drive/MyDrive/BigEarthNet unique labelled/Agro-forestry areas/S2B_MSIL2A_20180515T112110_88_88/S2B_MSIL2A_20180515T112110_88_88_B02.tif', '/content/drive/MyDrive/BigEarthNet unique labelled/Agro-forestry areas/S2B_MSIL2A_20180515T112110_88_88/S2B_MSIL2A_20180515T112110_88_88_B03.tif', '/content/drive/MyDrive/BigEarthNet unique labelled/Agro-forestry areas/S2B_MSIL2A_20180515T112110_88_88/S2B_MSIL2A_20180515T112110_88_88_B04.tif', '/content/drive/MyDrive/BigEarthNet unique labelled/Agro-forestry areas/S2B_MSIL2A_20180515T112110_88_88/S2B_MSIL2A_20180515T112110_88_88_B05.tif', '/content/drive/MyDrive/BigEarthNet unique labelled/Agro-forestry areas/S2B_MSIL2A_20180515T112110_88_88/S2B_MSIL2A_20180515T112110_88_88_B06.tif', '/content/drive/MyDrive/BigEarthNet unique labelled/Agro-forestry areas/S2B_MSIL2A_20180515T112110_88_88/S2B_MSIL2A_20180515T112110_88_88_B07.tif', '/content/drive/MyDrive/BigEarthNet unique labelled/Agro-forestry areas/S2B_MSIL2A_20180515T112110_88_88/S2B_MSIL2A_20180515T112110_88_88_B08.tif', '/content/drive/MyDrive/BigEarthNet unique labelled/Agro-forestry areas/S2B_MSIL2A_20180515T112110_88_88/S2B_MSIL2A_20180515T112110_88_88_B09.tif', '/content/drive/MyDrive/BigEarthNet unique labelled/Agro-forestry areas/S2B_MSIL2A_20180515T112110_88_88/S2B_MSIL2A_20180515T112110_88_88_B11.tif', '/content/drive/MyDrive/BigEarthNet unique labelled/Agro-forestry areas/S2B_MSIL2A_20180515T112110_88_88/S2B_MSIL2A_20180515T112110_88_88_B12.tif', '/content/drive/MyDrive/BigEarthNet unique labelled/Agro-forestry areas/S2B_MSIL2A_20180515T112110_88_88/S2B_MSIL2A_20180515T112110_88_88_B8A.tif']\n",
            "12\n",
            "<open DatasetWriter name='/content/drive/MyDrive/BigEarthNet unique labelled/Agro-forestry areas/S2B_MSIL2A_20180515T112110_88_88/S2B_MSIL2A_20180515T112110_88_88.tif' mode='w'>\n",
            "1 /content/drive/MyDrive/BigEarthNet unique labelled/Agro-forestry areas/S2B_MSIL2A_20180515T112110_88_88/S2B_MSIL2A_20180515T112110_88_88_B01.tif\n",
            "2 /content/drive/MyDrive/BigEarthNet unique labelled/Agro-forestry areas/S2B_MSIL2A_20180515T112110_88_88/S2B_MSIL2A_20180515T112110_88_88_B02.tif\n",
            "3 /content/drive/MyDrive/BigEarthNet unique labelled/Agro-forestry areas/S2B_MSIL2A_20180515T112110_88_88/S2B_MSIL2A_20180515T112110_88_88_B03.tif\n",
            "4 /content/drive/MyDrive/BigEarthNet unique labelled/Agro-forestry areas/S2B_MSIL2A_20180515T112110_88_88/S2B_MSIL2A_20180515T112110_88_88_B04.tif\n",
            "5 /content/drive/MyDrive/BigEarthNet unique labelled/Agro-forestry areas/S2B_MSIL2A_20180515T112110_88_88/S2B_MSIL2A_20180515T112110_88_88_B05.tif\n",
            "6 /content/drive/MyDrive/BigEarthNet unique labelled/Agro-forestry areas/S2B_MSIL2A_20180515T112110_88_88/S2B_MSIL2A_20180515T112110_88_88_B06.tif\n",
            "7 /content/drive/MyDrive/BigEarthNet unique labelled/Agro-forestry areas/S2B_MSIL2A_20180515T112110_88_88/S2B_MSIL2A_20180515T112110_88_88_B07.tif\n",
            "8 /content/drive/MyDrive/BigEarthNet unique labelled/Agro-forestry areas/S2B_MSIL2A_20180515T112110_88_88/S2B_MSIL2A_20180515T112110_88_88_B08.tif\n",
            "9 /content/drive/MyDrive/BigEarthNet unique labelled/Agro-forestry areas/S2B_MSIL2A_20180515T112110_88_88/S2B_MSIL2A_20180515T112110_88_88_B09.tif\n",
            "10 /content/drive/MyDrive/BigEarthNet unique labelled/Agro-forestry areas/S2B_MSIL2A_20180515T112110_88_88/S2B_MSIL2A_20180515T112110_88_88_B11.tif\n",
            "11 /content/drive/MyDrive/BigEarthNet unique labelled/Agro-forestry areas/S2B_MSIL2A_20180515T112110_88_88/S2B_MSIL2A_20180515T112110_88_88_B12.tif\n",
            "12 /content/drive/MyDrive/BigEarthNet unique labelled/Agro-forestry areas/S2B_MSIL2A_20180515T112110_88_88/S2B_MSIL2A_20180515T112110_88_88_B8A.tif\n",
            "['/content/drive/MyDrive/BigEarthNet unique labelled/Agro-forestry areas/S2B_MSIL2A_20180515T112110_90_84/S2B_MSIL2A_20180515T112110_90_84_B01.tif', '/content/drive/MyDrive/BigEarthNet unique labelled/Agro-forestry areas/S2B_MSIL2A_20180515T112110_90_84/S2B_MSIL2A_20180515T112110_90_84_B02.tif', '/content/drive/MyDrive/BigEarthNet unique labelled/Agro-forestry areas/S2B_MSIL2A_20180515T112110_90_84/S2B_MSIL2A_20180515T112110_90_84_B03.tif', '/content/drive/MyDrive/BigEarthNet unique labelled/Agro-forestry areas/S2B_MSIL2A_20180515T112110_90_84/S2B_MSIL2A_20180515T112110_90_84_B04.tif', '/content/drive/MyDrive/BigEarthNet unique labelled/Agro-forestry areas/S2B_MSIL2A_20180515T112110_90_84/S2B_MSIL2A_20180515T112110_90_84_B05.tif', '/content/drive/MyDrive/BigEarthNet unique labelled/Agro-forestry areas/S2B_MSIL2A_20180515T112110_90_84/S2B_MSIL2A_20180515T112110_90_84_B06.tif', '/content/drive/MyDrive/BigEarthNet unique labelled/Agro-forestry areas/S2B_MSIL2A_20180515T112110_90_84/S2B_MSIL2A_20180515T112110_90_84_B07.tif', '/content/drive/MyDrive/BigEarthNet unique labelled/Agro-forestry areas/S2B_MSIL2A_20180515T112110_90_84/S2B_MSIL2A_20180515T112110_90_84_B08.tif', '/content/drive/MyDrive/BigEarthNet unique labelled/Agro-forestry areas/S2B_MSIL2A_20180515T112110_90_84/S2B_MSIL2A_20180515T112110_90_84_B09.tif', '/content/drive/MyDrive/BigEarthNet unique labelled/Agro-forestry areas/S2B_MSIL2A_20180515T112110_90_84/S2B_MSIL2A_20180515T112110_90_84_B11.tif', '/content/drive/MyDrive/BigEarthNet unique labelled/Agro-forestry areas/S2B_MSIL2A_20180515T112110_90_84/S2B_MSIL2A_20180515T112110_90_84_B12.tif', '/content/drive/MyDrive/BigEarthNet unique labelled/Agro-forestry areas/S2B_MSIL2A_20180515T112110_90_84/S2B_MSIL2A_20180515T112110_90_84_B8A.tif']\n",
            "12\n",
            "<open DatasetWriter name='/content/drive/MyDrive/BigEarthNet unique labelled/Agro-forestry areas/S2B_MSIL2A_20180515T112110_90_84/S2B_MSIL2A_20180515T112110_90_84.tif' mode='w'>\n",
            "1 /content/drive/MyDrive/BigEarthNet unique labelled/Agro-forestry areas/S2B_MSIL2A_20180515T112110_90_84/S2B_MSIL2A_20180515T112110_90_84_B01.tif\n",
            "2 /content/drive/MyDrive/BigEarthNet unique labelled/Agro-forestry areas/S2B_MSIL2A_20180515T112110_90_84/S2B_MSIL2A_20180515T112110_90_84_B02.tif\n",
            "3 /content/drive/MyDrive/BigEarthNet unique labelled/Agro-forestry areas/S2B_MSIL2A_20180515T112110_90_84/S2B_MSIL2A_20180515T112110_90_84_B03.tif\n",
            "4 /content/drive/MyDrive/BigEarthNet unique labelled/Agro-forestry areas/S2B_MSIL2A_20180515T112110_90_84/S2B_MSIL2A_20180515T112110_90_84_B04.tif\n",
            "5 /content/drive/MyDrive/BigEarthNet unique labelled/Agro-forestry areas/S2B_MSIL2A_20180515T112110_90_84/S2B_MSIL2A_20180515T112110_90_84_B05.tif\n",
            "6 /content/drive/MyDrive/BigEarthNet unique labelled/Agro-forestry areas/S2B_MSIL2A_20180515T112110_90_84/S2B_MSIL2A_20180515T112110_90_84_B06.tif\n",
            "7 /content/drive/MyDrive/BigEarthNet unique labelled/Agro-forestry areas/S2B_MSIL2A_20180515T112110_90_84/S2B_MSIL2A_20180515T112110_90_84_B07.tif\n",
            "8 /content/drive/MyDrive/BigEarthNet unique labelled/Agro-forestry areas/S2B_MSIL2A_20180515T112110_90_84/S2B_MSIL2A_20180515T112110_90_84_B08.tif\n",
            "9 /content/drive/MyDrive/BigEarthNet unique labelled/Agro-forestry areas/S2B_MSIL2A_20180515T112110_90_84/S2B_MSIL2A_20180515T112110_90_84_B09.tif\n",
            "10 /content/drive/MyDrive/BigEarthNet unique labelled/Agro-forestry areas/S2B_MSIL2A_20180515T112110_90_84/S2B_MSIL2A_20180515T112110_90_84_B11.tif\n",
            "11 /content/drive/MyDrive/BigEarthNet unique labelled/Agro-forestry areas/S2B_MSIL2A_20180515T112110_90_84/S2B_MSIL2A_20180515T112110_90_84_B12.tif\n",
            "12 /content/drive/MyDrive/BigEarthNet unique labelled/Agro-forestry areas/S2B_MSIL2A_20180515T112110_90_84/S2B_MSIL2A_20180515T112110_90_84_B8A.tif\n",
            "['/content/drive/MyDrive/BigEarthNet unique labelled/Agro-forestry areas/S2B_MSIL2A_20180515T112110_89_87/S2B_MSIL2A_20180515T112110_89_87_B01.tif', '/content/drive/MyDrive/BigEarthNet unique labelled/Agro-forestry areas/S2B_MSIL2A_20180515T112110_89_87/S2B_MSIL2A_20180515T112110_89_87_B02.tif', '/content/drive/MyDrive/BigEarthNet unique labelled/Agro-forestry areas/S2B_MSIL2A_20180515T112110_89_87/S2B_MSIL2A_20180515T112110_89_87_B03.tif', '/content/drive/MyDrive/BigEarthNet unique labelled/Agro-forestry areas/S2B_MSIL2A_20180515T112110_89_87/S2B_MSIL2A_20180515T112110_89_87_B04.tif', '/content/drive/MyDrive/BigEarthNet unique labelled/Agro-forestry areas/S2B_MSIL2A_20180515T112110_89_87/S2B_MSIL2A_20180515T112110_89_87_B05.tif', '/content/drive/MyDrive/BigEarthNet unique labelled/Agro-forestry areas/S2B_MSIL2A_20180515T112110_89_87/S2B_MSIL2A_20180515T112110_89_87_B06.tif', '/content/drive/MyDrive/BigEarthNet unique labelled/Agro-forestry areas/S2B_MSIL2A_20180515T112110_89_87/S2B_MSIL2A_20180515T112110_89_87_B07.tif', '/content/drive/MyDrive/BigEarthNet unique labelled/Agro-forestry areas/S2B_MSIL2A_20180515T112110_89_87/S2B_MSIL2A_20180515T112110_89_87_B08.tif', '/content/drive/MyDrive/BigEarthNet unique labelled/Agro-forestry areas/S2B_MSIL2A_20180515T112110_89_87/S2B_MSIL2A_20180515T112110_89_87_B09.tif', '/content/drive/MyDrive/BigEarthNet unique labelled/Agro-forestry areas/S2B_MSIL2A_20180515T112110_89_87/S2B_MSIL2A_20180515T112110_89_87_B11.tif', '/content/drive/MyDrive/BigEarthNet unique labelled/Agro-forestry areas/S2B_MSIL2A_20180515T112110_89_87/S2B_MSIL2A_20180515T112110_89_87_B12.tif', '/content/drive/MyDrive/BigEarthNet unique labelled/Agro-forestry areas/S2B_MSIL2A_20180515T112110_89_87/S2B_MSIL2A_20180515T112110_89_87_B8A.tif']\n",
            "12\n",
            "<open DatasetWriter name='/content/drive/MyDrive/BigEarthNet unique labelled/Agro-forestry areas/S2B_MSIL2A_20180515T112110_89_87/S2B_MSIL2A_20180515T112110_89_87.tif' mode='w'>\n",
            "1 /content/drive/MyDrive/BigEarthNet unique labelled/Agro-forestry areas/S2B_MSIL2A_20180515T112110_89_87/S2B_MSIL2A_20180515T112110_89_87_B01.tif\n",
            "2 /content/drive/MyDrive/BigEarthNet unique labelled/Agro-forestry areas/S2B_MSIL2A_20180515T112110_89_87/S2B_MSIL2A_20180515T112110_89_87_B02.tif\n",
            "3 /content/drive/MyDrive/BigEarthNet unique labelled/Agro-forestry areas/S2B_MSIL2A_20180515T112110_89_87/S2B_MSIL2A_20180515T112110_89_87_B03.tif\n",
            "4 /content/drive/MyDrive/BigEarthNet unique labelled/Agro-forestry areas/S2B_MSIL2A_20180515T112110_89_87/S2B_MSIL2A_20180515T112110_89_87_B04.tif\n",
            "5 /content/drive/MyDrive/BigEarthNet unique labelled/Agro-forestry areas/S2B_MSIL2A_20180515T112110_89_87/S2B_MSIL2A_20180515T112110_89_87_B05.tif\n",
            "6 /content/drive/MyDrive/BigEarthNet unique labelled/Agro-forestry areas/S2B_MSIL2A_20180515T112110_89_87/S2B_MSIL2A_20180515T112110_89_87_B06.tif\n",
            "7 /content/drive/MyDrive/BigEarthNet unique labelled/Agro-forestry areas/S2B_MSIL2A_20180515T112110_89_87/S2B_MSIL2A_20180515T112110_89_87_B07.tif\n",
            "8 /content/drive/MyDrive/BigEarthNet unique labelled/Agro-forestry areas/S2B_MSIL2A_20180515T112110_89_87/S2B_MSIL2A_20180515T112110_89_87_B08.tif\n",
            "9 /content/drive/MyDrive/BigEarthNet unique labelled/Agro-forestry areas/S2B_MSIL2A_20180515T112110_89_87/S2B_MSIL2A_20180515T112110_89_87_B09.tif\n",
            "10 /content/drive/MyDrive/BigEarthNet unique labelled/Agro-forestry areas/S2B_MSIL2A_20180515T112110_89_87/S2B_MSIL2A_20180515T112110_89_87_B11.tif\n",
            "11 /content/drive/MyDrive/BigEarthNet unique labelled/Agro-forestry areas/S2B_MSIL2A_20180515T112110_89_87/S2B_MSIL2A_20180515T112110_89_87_B12.tif\n",
            "12 /content/drive/MyDrive/BigEarthNet unique labelled/Agro-forestry areas/S2B_MSIL2A_20180515T112110_89_87/S2B_MSIL2A_20180515T112110_89_87_B8A.tif\n",
            "['/content/drive/MyDrive/BigEarthNet unique labelled/Agro-forestry areas/S2B_MSIL2A_20180515T112110_89_90/S2B_MSIL2A_20180515T112110_89_90_B01.tif', '/content/drive/MyDrive/BigEarthNet unique labelled/Agro-forestry areas/S2B_MSIL2A_20180515T112110_89_90/S2B_MSIL2A_20180515T112110_89_90_B02.tif', '/content/drive/MyDrive/BigEarthNet unique labelled/Agro-forestry areas/S2B_MSIL2A_20180515T112110_89_90/S2B_MSIL2A_20180515T112110_89_90_B03.tif', '/content/drive/MyDrive/BigEarthNet unique labelled/Agro-forestry areas/S2B_MSIL2A_20180515T112110_89_90/S2B_MSIL2A_20180515T112110_89_90_B04.tif', '/content/drive/MyDrive/BigEarthNet unique labelled/Agro-forestry areas/S2B_MSIL2A_20180515T112110_89_90/S2B_MSIL2A_20180515T112110_89_90_B05.tif', '/content/drive/MyDrive/BigEarthNet unique labelled/Agro-forestry areas/S2B_MSIL2A_20180515T112110_89_90/S2B_MSIL2A_20180515T112110_89_90_B06.tif', '/content/drive/MyDrive/BigEarthNet unique labelled/Agro-forestry areas/S2B_MSIL2A_20180515T112110_89_90/S2B_MSIL2A_20180515T112110_89_90_B07.tif', '/content/drive/MyDrive/BigEarthNet unique labelled/Agro-forestry areas/S2B_MSIL2A_20180515T112110_89_90/S2B_MSIL2A_20180515T112110_89_90_B08.tif', '/content/drive/MyDrive/BigEarthNet unique labelled/Agro-forestry areas/S2B_MSIL2A_20180515T112110_89_90/S2B_MSIL2A_20180515T112110_89_90_B09.tif', '/content/drive/MyDrive/BigEarthNet unique labelled/Agro-forestry areas/S2B_MSIL2A_20180515T112110_89_90/S2B_MSIL2A_20180515T112110_89_90_B11.tif', '/content/drive/MyDrive/BigEarthNet unique labelled/Agro-forestry areas/S2B_MSIL2A_20180515T112110_89_90/S2B_MSIL2A_20180515T112110_89_90_B12.tif', '/content/drive/MyDrive/BigEarthNet unique labelled/Agro-forestry areas/S2B_MSIL2A_20180515T112110_89_90/S2B_MSIL2A_20180515T112110_89_90_B8A.tif']\n",
            "12\n",
            "<open DatasetWriter name='/content/drive/MyDrive/BigEarthNet unique labelled/Agro-forestry areas/S2B_MSIL2A_20180515T112110_89_90/S2B_MSIL2A_20180515T112110_89_90.tif' mode='w'>\n",
            "1 /content/drive/MyDrive/BigEarthNet unique labelled/Agro-forestry areas/S2B_MSIL2A_20180515T112110_89_90/S2B_MSIL2A_20180515T112110_89_90_B01.tif\n",
            "2 /content/drive/MyDrive/BigEarthNet unique labelled/Agro-forestry areas/S2B_MSIL2A_20180515T112110_89_90/S2B_MSIL2A_20180515T112110_89_90_B02.tif\n",
            "3 /content/drive/MyDrive/BigEarthNet unique labelled/Agro-forestry areas/S2B_MSIL2A_20180515T112110_89_90/S2B_MSIL2A_20180515T112110_89_90_B03.tif\n",
            "4 /content/drive/MyDrive/BigEarthNet unique labelled/Agro-forestry areas/S2B_MSIL2A_20180515T112110_89_90/S2B_MSIL2A_20180515T112110_89_90_B04.tif\n",
            "5 /content/drive/MyDrive/BigEarthNet unique labelled/Agro-forestry areas/S2B_MSIL2A_20180515T112110_89_90/S2B_MSIL2A_20180515T112110_89_90_B05.tif\n",
            "6 /content/drive/MyDrive/BigEarthNet unique labelled/Agro-forestry areas/S2B_MSIL2A_20180515T112110_89_90/S2B_MSIL2A_20180515T112110_89_90_B06.tif\n",
            "7 /content/drive/MyDrive/BigEarthNet unique labelled/Agro-forestry areas/S2B_MSIL2A_20180515T112110_89_90/S2B_MSIL2A_20180515T112110_89_90_B07.tif\n",
            "8 /content/drive/MyDrive/BigEarthNet unique labelled/Agro-forestry areas/S2B_MSIL2A_20180515T112110_89_90/S2B_MSIL2A_20180515T112110_89_90_B08.tif\n",
            "9 /content/drive/MyDrive/BigEarthNet unique labelled/Agro-forestry areas/S2B_MSIL2A_20180515T112110_89_90/S2B_MSIL2A_20180515T112110_89_90_B09.tif\n",
            "10 /content/drive/MyDrive/BigEarthNet unique labelled/Agro-forestry areas/S2B_MSIL2A_20180515T112110_89_90/S2B_MSIL2A_20180515T112110_89_90_B11.tif\n",
            "11 /content/drive/MyDrive/BigEarthNet unique labelled/Agro-forestry areas/S2B_MSIL2A_20180515T112110_89_90/S2B_MSIL2A_20180515T112110_89_90_B12.tif\n",
            "12 /content/drive/MyDrive/BigEarthNet unique labelled/Agro-forestry areas/S2B_MSIL2A_20180515T112110_89_90/S2B_MSIL2A_20180515T112110_89_90_B8A.tif\n",
            "['/content/drive/MyDrive/BigEarthNet unique labelled/Agro-forestry areas/S2B_MSIL2A_20180515T112110_90_51/S2B_MSIL2A_20180515T112110_90_51_B01.tif', '/content/drive/MyDrive/BigEarthNet unique labelled/Agro-forestry areas/S2B_MSIL2A_20180515T112110_90_51/S2B_MSIL2A_20180515T112110_90_51_B02.tif', '/content/drive/MyDrive/BigEarthNet unique labelled/Agro-forestry areas/S2B_MSIL2A_20180515T112110_90_51/S2B_MSIL2A_20180515T112110_90_51_B03.tif', '/content/drive/MyDrive/BigEarthNet unique labelled/Agro-forestry areas/S2B_MSIL2A_20180515T112110_90_51/S2B_MSIL2A_20180515T112110_90_51_B04.tif', '/content/drive/MyDrive/BigEarthNet unique labelled/Agro-forestry areas/S2B_MSIL2A_20180515T112110_90_51/S2B_MSIL2A_20180515T112110_90_51_B05.tif', '/content/drive/MyDrive/BigEarthNet unique labelled/Agro-forestry areas/S2B_MSIL2A_20180515T112110_90_51/S2B_MSIL2A_20180515T112110_90_51_B06.tif', '/content/drive/MyDrive/BigEarthNet unique labelled/Agro-forestry areas/S2B_MSIL2A_20180515T112110_90_51/S2B_MSIL2A_20180515T112110_90_51_B07.tif', '/content/drive/MyDrive/BigEarthNet unique labelled/Agro-forestry areas/S2B_MSIL2A_20180515T112110_90_51/S2B_MSIL2A_20180515T112110_90_51_B08.tif', '/content/drive/MyDrive/BigEarthNet unique labelled/Agro-forestry areas/S2B_MSIL2A_20180515T112110_90_51/S2B_MSIL2A_20180515T112110_90_51_B09.tif', '/content/drive/MyDrive/BigEarthNet unique labelled/Agro-forestry areas/S2B_MSIL2A_20180515T112110_90_51/S2B_MSIL2A_20180515T112110_90_51_B11.tif', '/content/drive/MyDrive/BigEarthNet unique labelled/Agro-forestry areas/S2B_MSIL2A_20180515T112110_90_51/S2B_MSIL2A_20180515T112110_90_51_B12.tif', '/content/drive/MyDrive/BigEarthNet unique labelled/Agro-forestry areas/S2B_MSIL2A_20180515T112110_90_51/S2B_MSIL2A_20180515T112110_90_51_B8A.tif']\n",
            "12\n",
            "<open DatasetWriter name='/content/drive/MyDrive/BigEarthNet unique labelled/Agro-forestry areas/S2B_MSIL2A_20180515T112110_90_51/S2B_MSIL2A_20180515T112110_90_51.tif' mode='w'>\n",
            "1 /content/drive/MyDrive/BigEarthNet unique labelled/Agro-forestry areas/S2B_MSIL2A_20180515T112110_90_51/S2B_MSIL2A_20180515T112110_90_51_B01.tif\n",
            "2 /content/drive/MyDrive/BigEarthNet unique labelled/Agro-forestry areas/S2B_MSIL2A_20180515T112110_90_51/S2B_MSIL2A_20180515T112110_90_51_B02.tif\n",
            "3 /content/drive/MyDrive/BigEarthNet unique labelled/Agro-forestry areas/S2B_MSIL2A_20180515T112110_90_51/S2B_MSIL2A_20180515T112110_90_51_B03.tif\n",
            "4 /content/drive/MyDrive/BigEarthNet unique labelled/Agro-forestry areas/S2B_MSIL2A_20180515T112110_90_51/S2B_MSIL2A_20180515T112110_90_51_B04.tif\n",
            "5 /content/drive/MyDrive/BigEarthNet unique labelled/Agro-forestry areas/S2B_MSIL2A_20180515T112110_90_51/S2B_MSIL2A_20180515T112110_90_51_B05.tif\n",
            "6 /content/drive/MyDrive/BigEarthNet unique labelled/Agro-forestry areas/S2B_MSIL2A_20180515T112110_90_51/S2B_MSIL2A_20180515T112110_90_51_B06.tif\n",
            "7 /content/drive/MyDrive/BigEarthNet unique labelled/Agro-forestry areas/S2B_MSIL2A_20180515T112110_90_51/S2B_MSIL2A_20180515T112110_90_51_B07.tif\n",
            "8 /content/drive/MyDrive/BigEarthNet unique labelled/Agro-forestry areas/S2B_MSIL2A_20180515T112110_90_51/S2B_MSIL2A_20180515T112110_90_51_B08.tif\n",
            "9 /content/drive/MyDrive/BigEarthNet unique labelled/Agro-forestry areas/S2B_MSIL2A_20180515T112110_90_51/S2B_MSIL2A_20180515T112110_90_51_B09.tif\n",
            "10 /content/drive/MyDrive/BigEarthNet unique labelled/Agro-forestry areas/S2B_MSIL2A_20180515T112110_90_51/S2B_MSIL2A_20180515T112110_90_51_B11.tif\n",
            "11 /content/drive/MyDrive/BigEarthNet unique labelled/Agro-forestry areas/S2B_MSIL2A_20180515T112110_90_51/S2B_MSIL2A_20180515T112110_90_51_B12.tif\n",
            "12 /content/drive/MyDrive/BigEarthNet unique labelled/Agro-forestry areas/S2B_MSIL2A_20180515T112110_90_51/S2B_MSIL2A_20180515T112110_90_51_B8A.tif\n",
            "['/content/drive/MyDrive/BigEarthNet unique labelled/Agro-forestry areas/S2B_MSIL2A_20180515T112110_88_80/S2B_MSIL2A_20180515T112110_88_80_B01.tif', '/content/drive/MyDrive/BigEarthNet unique labelled/Agro-forestry areas/S2B_MSIL2A_20180515T112110_88_80/S2B_MSIL2A_20180515T112110_88_80_B02.tif', '/content/drive/MyDrive/BigEarthNet unique labelled/Agro-forestry areas/S2B_MSIL2A_20180515T112110_88_80/S2B_MSIL2A_20180515T112110_88_80_B03.tif', '/content/drive/MyDrive/BigEarthNet unique labelled/Agro-forestry areas/S2B_MSIL2A_20180515T112110_88_80/S2B_MSIL2A_20180515T112110_88_80_B04.tif', '/content/drive/MyDrive/BigEarthNet unique labelled/Agro-forestry areas/S2B_MSIL2A_20180515T112110_88_80/S2B_MSIL2A_20180515T112110_88_80_B05.tif', '/content/drive/MyDrive/BigEarthNet unique labelled/Agro-forestry areas/S2B_MSIL2A_20180515T112110_88_80/S2B_MSIL2A_20180515T112110_88_80_B06.tif', '/content/drive/MyDrive/BigEarthNet unique labelled/Agro-forestry areas/S2B_MSIL2A_20180515T112110_88_80/S2B_MSIL2A_20180515T112110_88_80_B07.tif', '/content/drive/MyDrive/BigEarthNet unique labelled/Agro-forestry areas/S2B_MSIL2A_20180515T112110_88_80/S2B_MSIL2A_20180515T112110_88_80_B08.tif', '/content/drive/MyDrive/BigEarthNet unique labelled/Agro-forestry areas/S2B_MSIL2A_20180515T112110_88_80/S2B_MSIL2A_20180515T112110_88_80_B09.tif', '/content/drive/MyDrive/BigEarthNet unique labelled/Agro-forestry areas/S2B_MSIL2A_20180515T112110_88_80/S2B_MSIL2A_20180515T112110_88_80_B11.tif', '/content/drive/MyDrive/BigEarthNet unique labelled/Agro-forestry areas/S2B_MSIL2A_20180515T112110_88_80/S2B_MSIL2A_20180515T112110_88_80_B12.tif', '/content/drive/MyDrive/BigEarthNet unique labelled/Agro-forestry areas/S2B_MSIL2A_20180515T112110_88_80/S2B_MSIL2A_20180515T112110_88_80_B8A.tif']\n",
            "12\n",
            "<open DatasetWriter name='/content/drive/MyDrive/BigEarthNet unique labelled/Agro-forestry areas/S2B_MSIL2A_20180515T112110_88_80/S2B_MSIL2A_20180515T112110_88_80.tif' mode='w'>\n",
            "1 /content/drive/MyDrive/BigEarthNet unique labelled/Agro-forestry areas/S2B_MSIL2A_20180515T112110_88_80/S2B_MSIL2A_20180515T112110_88_80_B01.tif\n",
            "2 /content/drive/MyDrive/BigEarthNet unique labelled/Agro-forestry areas/S2B_MSIL2A_20180515T112110_88_80/S2B_MSIL2A_20180515T112110_88_80_B02.tif\n",
            "3 /content/drive/MyDrive/BigEarthNet unique labelled/Agro-forestry areas/S2B_MSIL2A_20180515T112110_88_80/S2B_MSIL2A_20180515T112110_88_80_B03.tif\n",
            "4 /content/drive/MyDrive/BigEarthNet unique labelled/Agro-forestry areas/S2B_MSIL2A_20180515T112110_88_80/S2B_MSIL2A_20180515T112110_88_80_B04.tif\n",
            "5 /content/drive/MyDrive/BigEarthNet unique labelled/Agro-forestry areas/S2B_MSIL2A_20180515T112110_88_80/S2B_MSIL2A_20180515T112110_88_80_B05.tif\n",
            "6 /content/drive/MyDrive/BigEarthNet unique labelled/Agro-forestry areas/S2B_MSIL2A_20180515T112110_88_80/S2B_MSIL2A_20180515T112110_88_80_B06.tif\n",
            "7 /content/drive/MyDrive/BigEarthNet unique labelled/Agro-forestry areas/S2B_MSIL2A_20180515T112110_88_80/S2B_MSIL2A_20180515T112110_88_80_B07.tif\n",
            "8 /content/drive/MyDrive/BigEarthNet unique labelled/Agro-forestry areas/S2B_MSIL2A_20180515T112110_88_80/S2B_MSIL2A_20180515T112110_88_80_B08.tif\n",
            "9 /content/drive/MyDrive/BigEarthNet unique labelled/Agro-forestry areas/S2B_MSIL2A_20180515T112110_88_80/S2B_MSIL2A_20180515T112110_88_80_B09.tif\n",
            "10 /content/drive/MyDrive/BigEarthNet unique labelled/Agro-forestry areas/S2B_MSIL2A_20180515T112110_88_80/S2B_MSIL2A_20180515T112110_88_80_B11.tif\n",
            "11 /content/drive/MyDrive/BigEarthNet unique labelled/Agro-forestry areas/S2B_MSIL2A_20180515T112110_88_80/S2B_MSIL2A_20180515T112110_88_80_B12.tif\n",
            "12 /content/drive/MyDrive/BigEarthNet unique labelled/Agro-forestry areas/S2B_MSIL2A_20180515T112110_88_80/S2B_MSIL2A_20180515T112110_88_80_B8A.tif\n",
            "['/content/drive/MyDrive/BigEarthNet unique labelled/Agro-forestry areas/S2B_MSIL2A_20180515T112110_87_66/S2B_MSIL2A_20180515T112110_87_66_B01.tif', '/content/drive/MyDrive/BigEarthNet unique labelled/Agro-forestry areas/S2B_MSIL2A_20180515T112110_87_66/S2B_MSIL2A_20180515T112110_87_66_B02.tif', '/content/drive/MyDrive/BigEarthNet unique labelled/Agro-forestry areas/S2B_MSIL2A_20180515T112110_87_66/S2B_MSIL2A_20180515T112110_87_66_B03.tif', '/content/drive/MyDrive/BigEarthNet unique labelled/Agro-forestry areas/S2B_MSIL2A_20180515T112110_87_66/S2B_MSIL2A_20180515T112110_87_66_B04.tif', '/content/drive/MyDrive/BigEarthNet unique labelled/Agro-forestry areas/S2B_MSIL2A_20180515T112110_87_66/S2B_MSIL2A_20180515T112110_87_66_B05.tif', '/content/drive/MyDrive/BigEarthNet unique labelled/Agro-forestry areas/S2B_MSIL2A_20180515T112110_87_66/S2B_MSIL2A_20180515T112110_87_66_B06.tif', '/content/drive/MyDrive/BigEarthNet unique labelled/Agro-forestry areas/S2B_MSIL2A_20180515T112110_87_66/S2B_MSIL2A_20180515T112110_87_66_B07.tif', '/content/drive/MyDrive/BigEarthNet unique labelled/Agro-forestry areas/S2B_MSIL2A_20180515T112110_87_66/S2B_MSIL2A_20180515T112110_87_66_B08.tif', '/content/drive/MyDrive/BigEarthNet unique labelled/Agro-forestry areas/S2B_MSIL2A_20180515T112110_87_66/S2B_MSIL2A_20180515T112110_87_66_B09.tif', '/content/drive/MyDrive/BigEarthNet unique labelled/Agro-forestry areas/S2B_MSIL2A_20180515T112110_87_66/S2B_MSIL2A_20180515T112110_87_66_B11.tif', '/content/drive/MyDrive/BigEarthNet unique labelled/Agro-forestry areas/S2B_MSIL2A_20180515T112110_87_66/S2B_MSIL2A_20180515T112110_87_66_B12.tif', '/content/drive/MyDrive/BigEarthNet unique labelled/Agro-forestry areas/S2B_MSIL2A_20180515T112110_87_66/S2B_MSIL2A_20180515T112110_87_66_B8A.tif']\n",
            "12\n",
            "<open DatasetWriter name='/content/drive/MyDrive/BigEarthNet unique labelled/Agro-forestry areas/S2B_MSIL2A_20180515T112110_87_66/S2B_MSIL2A_20180515T112110_87_66.tif' mode='w'>\n",
            "1 /content/drive/MyDrive/BigEarthNet unique labelled/Agro-forestry areas/S2B_MSIL2A_20180515T112110_87_66/S2B_MSIL2A_20180515T112110_87_66_B01.tif\n",
            "2 /content/drive/MyDrive/BigEarthNet unique labelled/Agro-forestry areas/S2B_MSIL2A_20180515T112110_87_66/S2B_MSIL2A_20180515T112110_87_66_B02.tif\n",
            "3 /content/drive/MyDrive/BigEarthNet unique labelled/Agro-forestry areas/S2B_MSIL2A_20180515T112110_87_66/S2B_MSIL2A_20180515T112110_87_66_B03.tif\n",
            "4 /content/drive/MyDrive/BigEarthNet unique labelled/Agro-forestry areas/S2B_MSIL2A_20180515T112110_87_66/S2B_MSIL2A_20180515T112110_87_66_B04.tif\n",
            "5 /content/drive/MyDrive/BigEarthNet unique labelled/Agro-forestry areas/S2B_MSIL2A_20180515T112110_87_66/S2B_MSIL2A_20180515T112110_87_66_B05.tif\n",
            "6 /content/drive/MyDrive/BigEarthNet unique labelled/Agro-forestry areas/S2B_MSIL2A_20180515T112110_87_66/S2B_MSIL2A_20180515T112110_87_66_B06.tif\n",
            "7 /content/drive/MyDrive/BigEarthNet unique labelled/Agro-forestry areas/S2B_MSIL2A_20180515T112110_87_66/S2B_MSIL2A_20180515T112110_87_66_B07.tif\n",
            "8 /content/drive/MyDrive/BigEarthNet unique labelled/Agro-forestry areas/S2B_MSIL2A_20180515T112110_87_66/S2B_MSIL2A_20180515T112110_87_66_B08.tif\n",
            "9 /content/drive/MyDrive/BigEarthNet unique labelled/Agro-forestry areas/S2B_MSIL2A_20180515T112110_87_66/S2B_MSIL2A_20180515T112110_87_66_B09.tif\n",
            "10 /content/drive/MyDrive/BigEarthNet unique labelled/Agro-forestry areas/S2B_MSIL2A_20180515T112110_87_66/S2B_MSIL2A_20180515T112110_87_66_B11.tif\n",
            "11 /content/drive/MyDrive/BigEarthNet unique labelled/Agro-forestry areas/S2B_MSIL2A_20180515T112110_87_66/S2B_MSIL2A_20180515T112110_87_66_B12.tif\n",
            "12 /content/drive/MyDrive/BigEarthNet unique labelled/Agro-forestry areas/S2B_MSIL2A_20180515T112110_87_66/S2B_MSIL2A_20180515T112110_87_66_B8A.tif\n",
            "['/content/drive/MyDrive/BigEarthNet unique labelled/Agro-forestry areas/S2B_MSIL2A_20180515T112110_75_81/S2B_MSIL2A_20180515T112110_75_81_B01.tif', '/content/drive/MyDrive/BigEarthNet unique labelled/Agro-forestry areas/S2B_MSIL2A_20180515T112110_75_81/S2B_MSIL2A_20180515T112110_75_81_B02.tif', '/content/drive/MyDrive/BigEarthNet unique labelled/Agro-forestry areas/S2B_MSIL2A_20180515T112110_75_81/S2B_MSIL2A_20180515T112110_75_81_B03.tif', '/content/drive/MyDrive/BigEarthNet unique labelled/Agro-forestry areas/S2B_MSIL2A_20180515T112110_75_81/S2B_MSIL2A_20180515T112110_75_81_B04.tif', '/content/drive/MyDrive/BigEarthNet unique labelled/Agro-forestry areas/S2B_MSIL2A_20180515T112110_75_81/S2B_MSIL2A_20180515T112110_75_81_B05.tif', '/content/drive/MyDrive/BigEarthNet unique labelled/Agro-forestry areas/S2B_MSIL2A_20180515T112110_75_81/S2B_MSIL2A_20180515T112110_75_81_B06.tif', '/content/drive/MyDrive/BigEarthNet unique labelled/Agro-forestry areas/S2B_MSIL2A_20180515T112110_75_81/S2B_MSIL2A_20180515T112110_75_81_B07.tif', '/content/drive/MyDrive/BigEarthNet unique labelled/Agro-forestry areas/S2B_MSIL2A_20180515T112110_75_81/S2B_MSIL2A_20180515T112110_75_81_B08.tif', '/content/drive/MyDrive/BigEarthNet unique labelled/Agro-forestry areas/S2B_MSIL2A_20180515T112110_75_81/S2B_MSIL2A_20180515T112110_75_81_B09.tif', '/content/drive/MyDrive/BigEarthNet unique labelled/Agro-forestry areas/S2B_MSIL2A_20180515T112110_75_81/S2B_MSIL2A_20180515T112110_75_81_B11.tif', '/content/drive/MyDrive/BigEarthNet unique labelled/Agro-forestry areas/S2B_MSIL2A_20180515T112110_75_81/S2B_MSIL2A_20180515T112110_75_81_B12.tif', '/content/drive/MyDrive/BigEarthNet unique labelled/Agro-forestry areas/S2B_MSIL2A_20180515T112110_75_81/S2B_MSIL2A_20180515T112110_75_81_B8A.tif']\n",
            "12\n",
            "<open DatasetWriter name='/content/drive/MyDrive/BigEarthNet unique labelled/Agro-forestry areas/S2B_MSIL2A_20180515T112110_75_81/S2B_MSIL2A_20180515T112110_75_81.tif' mode='w'>\n",
            "1 /content/drive/MyDrive/BigEarthNet unique labelled/Agro-forestry areas/S2B_MSIL2A_20180515T112110_75_81/S2B_MSIL2A_20180515T112110_75_81_B01.tif\n",
            "2 /content/drive/MyDrive/BigEarthNet unique labelled/Agro-forestry areas/S2B_MSIL2A_20180515T112110_75_81/S2B_MSIL2A_20180515T112110_75_81_B02.tif\n",
            "3 /content/drive/MyDrive/BigEarthNet unique labelled/Agro-forestry areas/S2B_MSIL2A_20180515T112110_75_81/S2B_MSIL2A_20180515T112110_75_81_B03.tif\n",
            "4 /content/drive/MyDrive/BigEarthNet unique labelled/Agro-forestry areas/S2B_MSIL2A_20180515T112110_75_81/S2B_MSIL2A_20180515T112110_75_81_B04.tif\n",
            "5 /content/drive/MyDrive/BigEarthNet unique labelled/Agro-forestry areas/S2B_MSIL2A_20180515T112110_75_81/S2B_MSIL2A_20180515T112110_75_81_B05.tif\n",
            "6 /content/drive/MyDrive/BigEarthNet unique labelled/Agro-forestry areas/S2B_MSIL2A_20180515T112110_75_81/S2B_MSIL2A_20180515T112110_75_81_B06.tif\n",
            "7 /content/drive/MyDrive/BigEarthNet unique labelled/Agro-forestry areas/S2B_MSIL2A_20180515T112110_75_81/S2B_MSIL2A_20180515T112110_75_81_B07.tif\n",
            "8 /content/drive/MyDrive/BigEarthNet unique labelled/Agro-forestry areas/S2B_MSIL2A_20180515T112110_75_81/S2B_MSIL2A_20180515T112110_75_81_B08.tif\n",
            "9 /content/drive/MyDrive/BigEarthNet unique labelled/Agro-forestry areas/S2B_MSIL2A_20180515T112110_75_81/S2B_MSIL2A_20180515T112110_75_81_B09.tif\n",
            "10 /content/drive/MyDrive/BigEarthNet unique labelled/Agro-forestry areas/S2B_MSIL2A_20180515T112110_75_81/S2B_MSIL2A_20180515T112110_75_81_B11.tif\n",
            "11 /content/drive/MyDrive/BigEarthNet unique labelled/Agro-forestry areas/S2B_MSIL2A_20180515T112110_75_81/S2B_MSIL2A_20180515T112110_75_81_B12.tif\n",
            "12 /content/drive/MyDrive/BigEarthNet unique labelled/Agro-forestry areas/S2B_MSIL2A_20180515T112110_75_81/S2B_MSIL2A_20180515T112110_75_81_B8A.tif\n",
            "['/content/drive/MyDrive/BigEarthNet unique labelled/Agro-forestry areas/S2B_MSIL2A_20180515T112110_82_43/S2B_MSIL2A_20180515T112110_82_43_B01.tif', '/content/drive/MyDrive/BigEarthNet unique labelled/Agro-forestry areas/S2B_MSIL2A_20180515T112110_82_43/S2B_MSIL2A_20180515T112110_82_43_B02.tif', '/content/drive/MyDrive/BigEarthNet unique labelled/Agro-forestry areas/S2B_MSIL2A_20180515T112110_82_43/S2B_MSIL2A_20180515T112110_82_43_B03.tif', '/content/drive/MyDrive/BigEarthNet unique labelled/Agro-forestry areas/S2B_MSIL2A_20180515T112110_82_43/S2B_MSIL2A_20180515T112110_82_43_B04.tif', '/content/drive/MyDrive/BigEarthNet unique labelled/Agro-forestry areas/S2B_MSIL2A_20180515T112110_82_43/S2B_MSIL2A_20180515T112110_82_43_B05.tif', '/content/drive/MyDrive/BigEarthNet unique labelled/Agro-forestry areas/S2B_MSIL2A_20180515T112110_82_43/S2B_MSIL2A_20180515T112110_82_43_B06.tif', '/content/drive/MyDrive/BigEarthNet unique labelled/Agro-forestry areas/S2B_MSIL2A_20180515T112110_82_43/S2B_MSIL2A_20180515T112110_82_43_B07.tif', '/content/drive/MyDrive/BigEarthNet unique labelled/Agro-forestry areas/S2B_MSIL2A_20180515T112110_82_43/S2B_MSIL2A_20180515T112110_82_43_B08.tif', '/content/drive/MyDrive/BigEarthNet unique labelled/Agro-forestry areas/S2B_MSIL2A_20180515T112110_82_43/S2B_MSIL2A_20180515T112110_82_43_B09.tif', '/content/drive/MyDrive/BigEarthNet unique labelled/Agro-forestry areas/S2B_MSIL2A_20180515T112110_82_43/S2B_MSIL2A_20180515T112110_82_43_B11.tif', '/content/drive/MyDrive/BigEarthNet unique labelled/Agro-forestry areas/S2B_MSIL2A_20180515T112110_82_43/S2B_MSIL2A_20180515T112110_82_43_B12.tif', '/content/drive/MyDrive/BigEarthNet unique labelled/Agro-forestry areas/S2B_MSIL2A_20180515T112110_82_43/S2B_MSIL2A_20180515T112110_82_43_B8A.tif']\n",
            "12\n",
            "<open DatasetWriter name='/content/drive/MyDrive/BigEarthNet unique labelled/Agro-forestry areas/S2B_MSIL2A_20180515T112110_82_43/S2B_MSIL2A_20180515T112110_82_43.tif' mode='w'>\n",
            "1 /content/drive/MyDrive/BigEarthNet unique labelled/Agro-forestry areas/S2B_MSIL2A_20180515T112110_82_43/S2B_MSIL2A_20180515T112110_82_43_B01.tif\n",
            "2 /content/drive/MyDrive/BigEarthNet unique labelled/Agro-forestry areas/S2B_MSIL2A_20180515T112110_82_43/S2B_MSIL2A_20180515T112110_82_43_B02.tif\n",
            "3 /content/drive/MyDrive/BigEarthNet unique labelled/Agro-forestry areas/S2B_MSIL2A_20180515T112110_82_43/S2B_MSIL2A_20180515T112110_82_43_B03.tif\n",
            "4 /content/drive/MyDrive/BigEarthNet unique labelled/Agro-forestry areas/S2B_MSIL2A_20180515T112110_82_43/S2B_MSIL2A_20180515T112110_82_43_B04.tif\n",
            "5 /content/drive/MyDrive/BigEarthNet unique labelled/Agro-forestry areas/S2B_MSIL2A_20180515T112110_82_43/S2B_MSIL2A_20180515T112110_82_43_B05.tif\n",
            "6 /content/drive/MyDrive/BigEarthNet unique labelled/Agro-forestry areas/S2B_MSIL2A_20180515T112110_82_43/S2B_MSIL2A_20180515T112110_82_43_B06.tif\n",
            "7 /content/drive/MyDrive/BigEarthNet unique labelled/Agro-forestry areas/S2B_MSIL2A_20180515T112110_82_43/S2B_MSIL2A_20180515T112110_82_43_B07.tif\n",
            "8 /content/drive/MyDrive/BigEarthNet unique labelled/Agro-forestry areas/S2B_MSIL2A_20180515T112110_82_43/S2B_MSIL2A_20180515T112110_82_43_B08.tif\n",
            "9 /content/drive/MyDrive/BigEarthNet unique labelled/Agro-forestry areas/S2B_MSIL2A_20180515T112110_82_43/S2B_MSIL2A_20180515T112110_82_43_B09.tif\n",
            "10 /content/drive/MyDrive/BigEarthNet unique labelled/Agro-forestry areas/S2B_MSIL2A_20180515T112110_82_43/S2B_MSIL2A_20180515T112110_82_43_B11.tif\n",
            "11 /content/drive/MyDrive/BigEarthNet unique labelled/Agro-forestry areas/S2B_MSIL2A_20180515T112110_82_43/S2B_MSIL2A_20180515T112110_82_43_B12.tif\n",
            "12 /content/drive/MyDrive/BigEarthNet unique labelled/Agro-forestry areas/S2B_MSIL2A_20180515T112110_82_43/S2B_MSIL2A_20180515T112110_82_43_B8A.tif\n",
            "['/content/drive/MyDrive/BigEarthNet unique labelled/Agro-forestry areas/S2B_MSIL2A_20180515T112110_79_86/S2B_MSIL2A_20180515T112110_79_86_B01.tif', '/content/drive/MyDrive/BigEarthNet unique labelled/Agro-forestry areas/S2B_MSIL2A_20180515T112110_79_86/S2B_MSIL2A_20180515T112110_79_86_B02.tif', '/content/drive/MyDrive/BigEarthNet unique labelled/Agro-forestry areas/S2B_MSIL2A_20180515T112110_79_86/S2B_MSIL2A_20180515T112110_79_86_B03.tif', '/content/drive/MyDrive/BigEarthNet unique labelled/Agro-forestry areas/S2B_MSIL2A_20180515T112110_79_86/S2B_MSIL2A_20180515T112110_79_86_B04.tif', '/content/drive/MyDrive/BigEarthNet unique labelled/Agro-forestry areas/S2B_MSIL2A_20180515T112110_79_86/S2B_MSIL2A_20180515T112110_79_86_B05.tif', '/content/drive/MyDrive/BigEarthNet unique labelled/Agro-forestry areas/S2B_MSIL2A_20180515T112110_79_86/S2B_MSIL2A_20180515T112110_79_86_B06.tif', '/content/drive/MyDrive/BigEarthNet unique labelled/Agro-forestry areas/S2B_MSIL2A_20180515T112110_79_86/S2B_MSIL2A_20180515T112110_79_86_B07.tif', '/content/drive/MyDrive/BigEarthNet unique labelled/Agro-forestry areas/S2B_MSIL2A_20180515T112110_79_86/S2B_MSIL2A_20180515T112110_79_86_B08.tif', '/content/drive/MyDrive/BigEarthNet unique labelled/Agro-forestry areas/S2B_MSIL2A_20180515T112110_79_86/S2B_MSIL2A_20180515T112110_79_86_B09.tif', '/content/drive/MyDrive/BigEarthNet unique labelled/Agro-forestry areas/S2B_MSIL2A_20180515T112110_79_86/S2B_MSIL2A_20180515T112110_79_86_B11.tif', '/content/drive/MyDrive/BigEarthNet unique labelled/Agro-forestry areas/S2B_MSIL2A_20180515T112110_79_86/S2B_MSIL2A_20180515T112110_79_86_B12.tif', '/content/drive/MyDrive/BigEarthNet unique labelled/Agro-forestry areas/S2B_MSIL2A_20180515T112110_79_86/S2B_MSIL2A_20180515T112110_79_86_B8A.tif']\n",
            "12\n",
            "<open DatasetWriter name='/content/drive/MyDrive/BigEarthNet unique labelled/Agro-forestry areas/S2B_MSIL2A_20180515T112110_79_86/S2B_MSIL2A_20180515T112110_79_86.tif' mode='w'>\n",
            "1 /content/drive/MyDrive/BigEarthNet unique labelled/Agro-forestry areas/S2B_MSIL2A_20180515T112110_79_86/S2B_MSIL2A_20180515T112110_79_86_B01.tif\n",
            "2 /content/drive/MyDrive/BigEarthNet unique labelled/Agro-forestry areas/S2B_MSIL2A_20180515T112110_79_86/S2B_MSIL2A_20180515T112110_79_86_B02.tif\n"
          ],
          "name": "stdout"
        }
      ]
    }
  ]
}